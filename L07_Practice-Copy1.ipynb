{
 "cells": [
  {
   "cell_type": "markdown",
   "id": "afea6f99",
   "metadata": {},
   "source": [
    "Practice"
   ]
  },
  {
   "cell_type": "code",
   "execution_count": 6,
   "id": "2fedd5c9",
   "metadata": {},
   "outputs": [],
   "source": [
    "temperature = 26"
   ]
  },
  {
   "cell_type": "code",
   "execution_count": 7,
   "id": "80e70670",
   "metadata": {},
   "outputs": [
    {
     "name": "stdout",
     "output_type": "stream",
     "text": [
      "it is cold\n"
     ]
    }
   ],
   "source": [
    "if temperature > 25:\n",
    "    print('it is cold')\n",
    "else: print('it is very cold')"
   ]
  },
  {
   "cell_type": "code",
   "execution_count": 18,
   "id": "6754a243",
   "metadata": {},
   "outputs": [
    {
     "name": "stdout",
     "output_type": "stream",
     "text": [
      "Wear a raincoat\n"
     ]
    }
   ],
   "source": [
    "weather = 'Rain'\n",
    "wind = 'notWindy'\n",
    "\n",
    "if (weather == 'Rain') and (wind == 'Windy'):\n",
    "    print('Stay home')\n",
    "elif weather == 'Rain' and (wind != 'Windy'):\n",
    "    print('Wear a raincoat')\n",
    "else:\n",
    "    print('No coat needed')\n",
    "\n",
    "    \n"
   ]
  },
  {
   "cell_type": "code",
   "execution_count": 20,
   "id": "e8cc3b2a",
   "metadata": {},
   "outputs": [
    {
     "data": {
      "text/plain": [
       "10"
      ]
     },
     "execution_count": 20,
     "metadata": {},
     "output_type": "execute_result"
    }
   ],
   "source": [
    "A = 50\n",
    "B = 10\n",
    "\n",
    "\n",
    "\n",
    "if A < 40:\n",
    "    x = A\n",
    "else: \n",
    "    x =B\n",
    "    \n",
    "x"
   ]
  },
  {
   "cell_type": "code",
   "execution_count": 22,
   "id": "8bc97e59",
   "metadata": {},
   "outputs": [
    {
     "data": {
      "text/plain": [
       "5"
      ]
     },
     "execution_count": 22,
     "metadata": {},
     "output_type": "execute_result"
    }
   ],
   "source": [
    "A = 60\n",
    "B = 5\n",
    "\n",
    "x = A if A<40 else B\n",
    "x"
   ]
  },
  {
   "cell_type": "code",
   "execution_count": 24,
   "id": "62a8536d",
   "metadata": {},
   "outputs": [
    {
     "name": "stdout",
     "output_type": "stream",
     "text": [
      "it is hot\n"
     ]
    }
   ],
   "source": [
    "temperature = 29\n",
    "\n",
    "print('it is hot') if temperature > 25 else print('not hot')\n",
    "\n"
   ]
  },
  {
   "cell_type": "code",
   "execution_count": 25,
   "id": "1b5f00e4",
   "metadata": {},
   "outputs": [
    {
     "data": {
      "text/plain": [
       "102.0"
      ]
     },
     "execution_count": 25,
     "metadata": {},
     "output_type": "execute_result"
    }
   ],
   "source": [
    "X = [123, 87, 96]\n",
    "mean = (X[0] + X[1] + X[2])/3\n",
    "mean"
   ]
  },
  {
   "cell_type": "code",
   "execution_count": 26,
   "id": "e0381e77",
   "metadata": {},
   "outputs": [
    {
     "name": "stdout",
     "output_type": "stream",
     "text": [
      "123\n",
      "87\n",
      "96\n"
     ]
    }
   ],
   "source": [
    "for val in X:\n",
    "    print(val)"
   ]
  },
  {
   "cell_type": "code",
   "execution_count": 34,
   "id": "a50f2379",
   "metadata": {},
   "outputs": [
    {
     "name": "stdout",
     "output_type": "stream",
     "text": [
      "75.0\n"
     ]
    }
   ],
   "source": [
    "X = [123, 87, 96, 24, 104, 16]\n",
    "sum = 0\n",
    "l = 0\n",
    "for val in X: \n",
    "    l = l + 1\n",
    "    sum = sum + val \n",
    "\n",
    "mean = sum / l\n",
    "print(mean)\n",
    "    \n"
   ]
  },
  {
   "cell_type": "code",
   "execution_count": 6,
   "id": "17d028f4",
   "metadata": {},
   "outputs": [
    {
     "name": "stdout",
     "output_type": "stream",
     "text": [
      "1\n",
      "2\n"
     ]
    }
   ],
   "source": [
    "sum = 0\n",
    "while sum < 5:\n",
    "  \n",
    "    sum += 1\n",
    "    \n",
    "    if sum == 3:\n",
    "        break\n",
    "    \n",
    "    print(sum)"
   ]
  },
  {
   "cell_type": "markdown",
   "id": "440ddd4c",
   "metadata": {},
   "source": [
    "\n",
    "\n"
   ]
  },
  {
   "cell_type": "code",
   "execution_count": 2,
   "id": "f229baef",
   "metadata": {},
   "outputs": [
    {
     "name": "stdout",
     "output_type": "stream",
     "text": [
      "what is the password\n",
      "type\n",
      "what is the password\n",
      "type\n",
      "what is the password\n",
      "type\n",
      "You failed to enter password after 3 tries\n"
     ]
    }
   ],
   "source": [
    "password = ''\n",
    "count = 0\n",
    "while password != 'python':\n",
    "    count += 1\n",
    "    print(\"what is the password\")\n",
    "    password = input()\n",
    "    \n",
    "    if (count >2):\n",
    "        print(\"You failed to enter password after 3 tries\")\n",
    "        break\n",
    "    \n",
    "else:\n",
    "    print('Yes, the password is correct. You may enter.')\n"
   ]
  },
  {
   "cell_type": "code",
   "execution_count": null,
   "id": "449590c8",
   "metadata": {},
   "outputs": [],
   "source": []
  }
 ],
 "metadata": {
  "kernelspec": {
   "display_name": "Python [conda env:geosf22]",
   "language": "python",
   "name": "conda-env-geosf22-py"
  },
  "language_info": {
   "codemirror_mode": {
    "name": "ipython",
    "version": 3
   },
   "file_extension": ".py",
   "mimetype": "text/x-python",
   "name": "python",
   "nbconvert_exporter": "python",
   "pygments_lexer": "ipython3",
   "version": "3.9.13"
  }
 },
 "nbformat": 4,
 "nbformat_minor": 5
}
