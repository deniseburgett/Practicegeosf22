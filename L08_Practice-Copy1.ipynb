{
 "cells": [
  {
   "cell_type": "code",
   "execution_count": 1,
   "id": "01af6116",
   "metadata": {},
   "outputs": [
    {
     "name": "stdout",
     "output_type": "stream",
     "text": [
      "Hello World !!\n"
     ]
    }
   ],
   "source": [
    "def helloWorld():\n",
    "    print(\"Hello World !!\")\n",
    "    \n",
    "helloWorld()"
   ]
  },
  {
   "cell_type": "code",
   "execution_count": 2,
   "id": "85d00fd1",
   "metadata": {},
   "outputs": [
    {
     "data": {
      "text/plain": [
       "32.0"
      ]
     },
     "execution_count": 2,
     "metadata": {},
     "output_type": "execute_result"
    }
   ],
   "source": [
    "def celsiustoFarh(tempCelsius):\n",
    "    return 9/5 * tempCelsius + 32\n",
    "freezingPoint = celsiustoFarh(0)\n",
    "freezingPoint"
   ]
  },
  {
   "cell_type": "code",
   "execution_count": 4,
   "id": "8e6c4ea5",
   "metadata": {},
   "outputs": [
    {
     "data": {
      "text/plain": [
       "'worldhello'"
      ]
     },
     "execution_count": 4,
     "metadata": {},
     "output_type": "execute_result"
    }
   ],
   "source": [
    "def multiply(a,b):\n",
    "    return a+b\n",
    "\n",
    "multiply('world','hello')"
   ]
  },
  {
   "cell_type": "code",
   "execution_count": 7,
   "id": "8f9d4c5f",
   "metadata": {},
   "outputs": [],
   "source": [
    "def hello(name, age):\n",
    "    return(\"Hello \" + str(name)+ \" your age in 10 years will be\" + str(age+10) )\n",
    "\n",
    "output = hello(\"John\", 20)"
   ]
  },
  {
   "cell_type": "code",
   "execution_count": 8,
   "id": "2d0b3346",
   "metadata": {},
   "outputs": [
    {
     "data": {
      "text/plain": [
       "'Hello John your age in 10 years will be30'"
      ]
     },
     "execution_count": 8,
     "metadata": {},
     "output_type": "execute_result"
    }
   ],
   "source": [
    "output"
   ]
  },
  {
   "cell_type": "code",
   "execution_count": 10,
   "id": "3a54f4ff",
   "metadata": {},
   "outputs": [
    {
     "data": {
      "text/plain": [
       "12"
      ]
     },
     "execution_count": 10,
     "metadata": {},
     "output_type": "execute_result"
    }
   ],
   "source": [
    "f = lambda x: 10+x\n",
    "\n",
    "f(2)"
   ]
  },
  {
   "cell_type": "code",
   "execution_count": null,
   "id": "9558f071",
   "metadata": {},
   "outputs": [],
   "source": []
  }
 ],
 "metadata": {
  "kernelspec": {
   "display_name": "Python [conda env:geosf22]",
   "language": "python",
   "name": "conda-env-geosf22-py"
  },
  "language_info": {
   "codemirror_mode": {
    "name": "ipython",
    "version": 3
   },
   "file_extension": ".py",
   "mimetype": "text/x-python",
   "name": "python",
   "nbconvert_exporter": "python",
   "pygments_lexer": "ipython3",
   "version": "3.9.13"
  }
 },
 "nbformat": 4,
 "nbformat_minor": 5
}
